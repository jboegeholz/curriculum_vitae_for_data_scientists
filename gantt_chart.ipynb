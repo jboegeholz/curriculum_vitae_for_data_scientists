{
 "cells": [
  {
   "cell_type": "code",
   "execution_count": 2,
   "metadata": {},
   "outputs": [],
   "source": [
    "import datetime as dt\n",
    "import matplotlib.pyplot as plt\n",
    "import matplotlib.font_manager as font_manager\n",
    "import matplotlib.dates\n",
    "from matplotlib.dates import WEEKLY,MONTHLY, DateFormatter, rrulewrapper, RRuleLocator \n",
    "import numpy as np\n",
    "  \n",
    " \n",
    "def _create_date(datetxt):\n",
    "    \"\"\"Creates the date\"\"\"\n",
    "    day,month,year=datetxt.split('-')\n",
    "    date = dt.datetime(int(year), int(month), int(day))\n",
    "    mdate = matplotlib.dates.date2num(date) \n",
    "    return mdate\n",
    " \n",
    "def CreateGanttChart(fname):\n",
    "    \"\"\"\n",
    "        Create gantt charts with matplotlib\n",
    "        Give file name.\n",
    "    \"\"\" \n",
    "    ylabels = []\n",
    "    customDates = []\n",
    "    try:\n",
    "        textlist=open(fname).readlines()\n",
    "    except:\n",
    "        return\n",
    "#\n",
    "    for tx in textlist:\n",
    "        if not tx.startswith('#'):\n",
    "            ylabel,startdate,enddate=tx.split(',')\n",
    "            ylabels.append(ylabel.replace('\\n',''))\n",
    "            customDates.append([_create_date(startdate.replace('\\n','')),_create_date(enddate.replace('\\n',''))])\n",
    "             \n",
    "    ilen=len(ylabels)\n",
    "    pos = np.arange(0.5,ilen*0.5+0.5,0.5)\n",
    "    task_dates = {}\n",
    "    for i,task in enumerate(ylabels):\n",
    "        task_dates[task] = customDates[i]\n",
    "    fig = plt.figure(figsize=(20,8))\n",
    "    ax = fig.add_subplot(111)\n",
    "    for i in range(len(ylabels)):\n",
    "         start_date,end_date = task_dates[ylabels[i]]\n",
    "         ax.barh((i*0.5)+0.5, end_date - start_date, left=start_date, height=0.3, align='center', edgecolor='lightgreen', color='orange', alpha = 0.8)\n",
    "    locsy, labelsy = plt.yticks(pos,ylabels)\n",
    "    plt.setp(labelsy, fontsize = 14)\n",
    "#    ax.axis('tight')\n",
    "    ax.set_ylim(ymin = -0.1, ymax = ilen*0.5+0.5)\n",
    "    ax.grid(color = 'g', linestyle = ':')\n",
    "    ax.xaxis_date()\n",
    "    rule = rrulewrapper(WEEKLY, interval=1)\n",
    "    loc = RRuleLocator(rule)\n",
    "    #formatter = DateFormatter(\"%d-%b '%y\")\n",
    "    formatter = DateFormatter(\"%d-%b\")\n",
    "  \n",
    "    ax.xaxis.set_major_locator(loc)\n",
    "    ax.xaxis.set_major_formatter(formatter)\n",
    "    labelsx = ax.get_xticklabels()\n",
    "    plt.setp(labelsx, rotation=30, fontsize=10)\n",
    " \n",
    "    font = font_manager.FontProperties(size='small')\n",
    "    ax.legend(loc=1,prop=font)\n",
    " \n",
    "    ax.invert_yaxis()\n",
    "    fig.autofmt_xdate()\n",
    "    plt.savefig('gantt.svg')\n",
    "    plt.show()"
   ]
  },
  {
   "cell_type": "code",
   "execution_count": 3,
   "metadata": {},
   "outputs": [],
   "source": [
    "fname=r\"projectChart.txt\"\n",
    "CreateGanttChart(fname)"
   ]
  }
 ],
 "metadata": {
  "kernelspec": {
   "display_name": "Python 3",
   "language": "python",
   "name": "python3"
  },
  "language_info": {
   "codemirror_mode": {
    "name": "ipython",
    "version": 3
   },
   "file_extension": ".py",
   "mimetype": "text/x-python",
   "name": "python",
   "nbconvert_exporter": "python",
   "pygments_lexer": "ipython3",
   "version": "3.6.5"
  }
 },
 "nbformat": 4,
 "nbformat_minor": 1
}

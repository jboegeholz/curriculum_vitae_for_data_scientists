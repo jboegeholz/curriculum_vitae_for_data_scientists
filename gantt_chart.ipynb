{
 "cells": [
  {
   "cell_type": "code",
   "execution_count": 1,
   "metadata": {
    "pycharm": {
     "is_executing": false
    }
   },
   "outputs": [],
   "source": [
    "import pandas as pd\n",
    "import io\n",
    "import matplotlib.pyplot as plt\n",
    "import matplotlib"
   ]
  },
  {
   "cell_type": "code",
   "execution_count": 2,
   "metadata": {
    "pycharm": {
     "is_executing": false
    }
   },
   "outputs": [
    {
     "data": {
      "text/plain": "job                   object\nstart_date    datetime64[ns]\nend_date      datetime64[ns]\ndtype: object"
     },
     "metadata": {},
     "output_type": "execute_result",
     "execution_count": 2
    }
   ],
   "source": [
    "inp = u\"\"\"job,start_date,end_date\n",
    "Landestheater Detmold,2000-01-01,2001-06-30\n",
    "FH Coburg, 2001-09-01, 2005-08-31\n",
    "Harman Becker,2005-09-01,2009-08-31\n",
    "\"\"\"\n",
    "\n",
    "dtypes = {'job': 'str', 'start_date': 'str', 'end_date': 'str'}\n",
    "parse_dates = ['start_date', 'end_date']\n",
    "cv = pd.read_csv(io.StringIO(inp), dtype=dtypes, parse_dates=parse_dates)\n",
    "cv.dtypes\n"
   ]
  },
  {
   "cell_type": "code",
   "execution_count": 3,
   "metadata": {},
   "outputs": [
    {
     "data": {
      "text/html": [
       "<div>\n",
       "<style scoped>\n",
       "    .dataframe tbody tr th:only-of-type {\n",
       "        vertical-align: middle;\n",
       "    }\n",
       "\n",
       "    .dataframe tbody tr th {\n",
       "        vertical-align: top;\n",
       "    }\n",
       "\n",
       "    .dataframe thead th {\n",
       "        text-align: right;\n",
       "    }\n",
       "</style>\n",
       "<table border=\"1\" class=\"dataframe\">\n",
       "  <thead>\n",
       "    <tr style=\"text-align: right;\">\n",
       "      <th></th>\n",
       "      <th>job</th>\n",
       "      <th>start_date</th>\n",
       "      <th>end_date</th>\n",
       "    </tr>\n",
       "  </thead>\n",
       "  <tbody>\n",
       "    <tr>\n",
       "      <th>0</th>\n",
       "      <td>Landestheater Detmold</td>\n",
       "      <td>2000-01-01</td>\n",
       "      <td>2001-06-30</td>\n",
       "    </tr>\n",
       "    <tr>\n",
       "      <th>1</th>\n",
       "      <td>FH Coburg</td>\n",
       "      <td>2001-09-01</td>\n",
       "      <td>2005-08-31</td>\n",
       "    </tr>\n",
       "    <tr>\n",
       "      <th>2</th>\n",
       "      <td>Harman Becker</td>\n",
       "      <td>2005-09-01</td>\n",
       "      <td>2009-08-31</td>\n",
       "    </tr>\n",
       "  </tbody>\n",
       "</table>\n",
       "</div>"
      ],
      "text/plain": [
       "                     job start_date   end_date\n",
       "0  Landestheater Detmold 2000-01-01 2001-06-30\n",
       "1              FH Coburg 2001-09-01 2005-08-31\n",
       "2          Harman Becker 2005-09-01 2009-08-31"
      ]
     },
     "execution_count": 3,
     "metadata": {},
     "output_type": "execute_result"
    }
   ],
   "source": [
    "cv"
   ]
  },
  {
   "cell_type": "code",
   "execution_count": 3,
   "metadata": {
    "pycharm": {
     "is_executing": false
    }
   },
   "outputs": [
    {
     "data": {
      "text/plain": "                     job  start_date  end_date\n0  Landestheater Detmold    730120.0  730666.0\n1              FH Coburg    730729.0  732189.0\n2          Harman Becker    732190.0  733650.0",
      "text/html": "<div>\n<style scoped>\n    .dataframe tbody tr th:only-of-type {\n        vertical-align: middle;\n    }\n\n    .dataframe tbody tr th {\n        vertical-align: top;\n    }\n\n    .dataframe thead th {\n        text-align: right;\n    }\n</style>\n<table border=\"1\" class=\"dataframe\">\n  <thead>\n    <tr style=\"text-align: right;\">\n      <th></th>\n      <th>job</th>\n      <th>start_date</th>\n      <th>end_date</th>\n    </tr>\n  </thead>\n  <tbody>\n    <tr>\n      <th>0</th>\n      <td>Landestheater Detmold</td>\n      <td>730120.0</td>\n      <td>730666.0</td>\n    </tr>\n    <tr>\n      <th>1</th>\n      <td>FH Coburg</td>\n      <td>730729.0</td>\n      <td>732189.0</td>\n    </tr>\n    <tr>\n      <th>2</th>\n      <td>Harman Becker</td>\n      <td>732190.0</td>\n      <td>733650.0</td>\n    </tr>\n  </tbody>\n</table>\n</div>"
     },
     "metadata": {},
     "output_type": "execute_result",
     "execution_count": 3
    }
   ],
   "source": [
    "cv[\"start_date\"] = matplotlib.dates.date2num(cv[\"start_date\"])\n",
    "cv[\"end_date\"] = matplotlib.dates.date2num(cv[\"end_date\"])\n",
    "cv"
   ]
  },
  {
   "cell_type": "code",
   "execution_count": 5,
   "metadata": {
    "pycharm": {
     "is_executing": false
    }
   },
   "outputs": [
    {
     "data": {
      "text/plain": "                     job  start_date  end_date  duration\n0  Landestheater Detmold    730120.0  730666.0     546.0\n1              FH Coburg    730729.0  732189.0    1460.0\n2          Harman Becker    732190.0  733650.0    1460.0",
      "text/html": "<div>\n<style scoped>\n    .dataframe tbody tr th:only-of-type {\n        vertical-align: middle;\n    }\n\n    .dataframe tbody tr th {\n        vertical-align: top;\n    }\n\n    .dataframe thead th {\n        text-align: right;\n    }\n</style>\n<table border=\"1\" class=\"dataframe\">\n  <thead>\n    <tr style=\"text-align: right;\">\n      <th></th>\n      <th>job</th>\n      <th>start_date</th>\n      <th>end_date</th>\n      <th>duration</th>\n    </tr>\n  </thead>\n  <tbody>\n    <tr>\n      <th>0</th>\n      <td>Landestheater Detmold</td>\n      <td>730120.0</td>\n      <td>730666.0</td>\n      <td>546.0</td>\n    </tr>\n    <tr>\n      <th>1</th>\n      <td>FH Coburg</td>\n      <td>730729.0</td>\n      <td>732189.0</td>\n      <td>1460.0</td>\n    </tr>\n    <tr>\n      <th>2</th>\n      <td>Harman Becker</td>\n      <td>732190.0</td>\n      <td>733650.0</td>\n      <td>1460.0</td>\n    </tr>\n  </tbody>\n</table>\n</div>"
     },
     "metadata": {},
     "output_type": "execute_result",
     "execution_count": 5
    }
   ],
   "source": [
    "cv[\"duration\"] = cv.end_date - cv.start_date\n",
    "cv"
   ]
  },
  {
   "cell_type": "code",
   "execution_count": 6,
   "metadata": {
    "pycharm": {
     "is_executing": false
    }
   },
   "outputs": [
    {
     "name": "stdout",
     "text": [
      "Landestheater Detmold 730120.0 546.0\n",
      "FH Coburg 730729.0 1460.0\n",
      "Harman Becker 732190.0 1460.0\n"
     ],
     "output_type": "stream"
    }
   ],
   "source": [
    "for index, row in cv.iterrows():\n",
    "    print(row['job'], row['start_date'], row['duration'])"
   ]
  },
  {
   "cell_type": "code",
   "execution_count": 7,
   "metadata": {
    "pycharm": {
     "is_executing": false
    }
   },
   "outputs": [
    {
     "name": "stdout",
     "text": [
      "Landestheater Detmold 730120.0 546.0\n",
      "FH Coburg 730729.0 1460.0\n",
      "Harman Becker 732190.0 1460.0\n",
      "['Landestheater Detmold', 'FH Coburg', 'Harman Becker']\n"
     ],
     "output_type": "stream"
    },
    {
     "data": {
      "text/plain": "<Figure size 432x216 with 1 Axes>",
      "image/png": "[encoded data removed]"
     },
     "metadata": {
      "needs_background": "light"
     },
     "output_type": "display_data"
    }
   ],
   "source": [
    "fig, ax = plt.subplots(figsize=(6, 3))\n",
    "\n",
    "labels=[]\n",
    "for index, row in cv.iterrows():\n",
    "    print(row['job'], row['start_date'], row['duration'])\n",
    "    ax.broken_barh([(row[\"start_date\"], row[\"duration\"])], (0.75 + index, 0.5), facecolors=['darkorange', 'red'])\n",
    "    labels.append(row['job'])\n",
    "    \n",
    "plt.yticks([x for x in range(1, len(labels)+1)], labels[::-1])\n",
    "ax.invert_yaxis()\n",
    "plt.show()\n",
    "print(labels)"
   ]
  }
 ],
 "metadata": {
  "kernelspec": {
   "display_name": "Python 3",
   "language": "python",
   "name": "python3"
  },
  "language_info": {
   "codemirror_mode": {
    "name": "ipython",
    "version": 3
   },
   "file_extension": ".py",
   "mimetype": "text/x-python",
   "name": "python",
   "nbconvert_exporter": "python",
   "pygments_lexer": "ipython3",
   "version": "3.6.5"
  }
 },
 "nbformat": 4,
 "nbformat_minor": 1
}
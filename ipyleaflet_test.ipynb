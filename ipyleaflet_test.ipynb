{
 "cells": [
  {
   "cell_type": "code",
   "execution_count": 11,
   "metadata": {},
   "outputs": [
    {
     "data": {
      "application/vnd.jupyter.widget-view+json": {
       "model_id": "56c6cd4d025b4383895cda087b80ecf2",
       "version_major": 2,
       "version_minor": 0
      },
      "text/plain": [
       "Map(center=[52.207851, 8.80403], controls=(ZoomControl(options=['position', 'zoom_in_text', 'zoom_in_title', '…"
      ]
     },
     "metadata": {},
     "output_type": "display_data"
    }
   ],
   "source": [
    "\n",
    "from ipyleaflet import Map, Marker, basemaps, basemap_to_tiles\n",
    "\n",
    "m = Map(\n",
    "    basemap=basemaps.OpenStreetMap.Mapnik,\n",
    "    center=(52.207851, 8.804030),\n",
    "    zoom=10\n",
    ")\n",
    "cities = {  \"Bad Oeynhausen\":\n",
    "              { \"latitude\":52.207851, \"longitude\":8.804030},\n",
    "            \"Detmold\":\n",
    "              { \"latitude\":51.936284, \"longitude\":8.879153},\n",
    "            \"Coburg\":\n",
    "              { \"latitude\":50.258112, \"longitude\":10.964463},\n",
    "            \"Bochum\":\n",
    "              { \"latitude\":51.481811, \"longitude\":7.219664},\n",
    "          }\n",
    "\n",
    "for city, coordinates in cities.items():\n",
    "\n",
    "    m.add_layer(Marker(location=(city[\"latitude\"], city[\"longitude\"])))\n",
    "\n",
    "m"
   ]
  }
 ],
 "metadata": {
  "kernelspec": {
   "display_name": "Python 3 (ipykernel)",
   "language": "python",
   "name": "python3"
  },
  "language_info": {
   "codemirror_mode": {
    "name": "ipython",
    "version": 3
   },
   "file_extension": ".py",
   "mimetype": "text/x-python",
   "name": "python",
   "nbconvert_exporter": "python",
   "pygments_lexer": "ipython3",
   "version": "3.9.4"
  }
 },
 "nbformat": 4,
 "nbformat_minor": 1
}
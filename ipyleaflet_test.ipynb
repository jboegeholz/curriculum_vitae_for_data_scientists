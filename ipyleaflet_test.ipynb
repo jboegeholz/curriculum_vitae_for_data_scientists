{
 "cells": [
  {
   "cell_type": "code",
   "execution_count": 1,
   "metadata": {},
   "outputs": [
    {
     "data": {
      "text/plain": "Map(center=[52, 8], controls=(ZoomControl(options=['position', 'zoom_in_text', 'zoom_in_title', 'zoom_out_text…",
      "application/vnd.jupyter.widget-view+json": {
       "version_major": 2,
       "version_minor": 0,
       "model_id": "53c1b6b77ddc4349993c94aa289230cd"
      }
     },
     "execution_count": 1,
     "metadata": {},
     "output_type": "execute_result"
    }
   ],
   "source": [
    "\n",
    "from ipyleaflet import Map, Marker, basemaps, basemap_to_tiles\n",
    "\n",
    "m = Map(\n",
    "    basemap=basemaps.OpenStreetMap.Mapnik,\n",
    "    center=(52, 8),\n",
    "    zoom=5\n",
    ")\n",
    "cities = {  \"Bad Oeynhausen\":\n",
    "              { \"latitude\":52.207851, \"longitude\":8.804030},\n",
    "            \"Detmold\":\n",
    "              { \"latitude\":51.936284, \"longitude\":8.879153},\n",
    "            \"Coburg\":\n",
    "              { \"latitude\":50.258112, \"longitude\":10.964463},\n",
    "            \"Bochum\":\n",
    "              { \"latitude\":51.481811, \"longitude\":7.219664},\n",
    "            \"Karlsbad\":\n",
    "               { \"latitude\":48.881417, \"longitude\":8.507199},\n",
    "            \"Nürnberg\":\n",
    "               { \"latitude\":49.447537, \"longitude\":11.102352},\n",
    "             \"Erlangen - Tennenlohe\":\n",
    "               { \"latitude\":49.547055, \"longitude\":11.015774}\n",
    "          }\n",
    "\n",
    "for city, coordinates in cities.items():\n",
    "\n",
    "    m.add_layer(Marker(label=city, location=(coordinates[\"latitude\"], coordinates[\"longitude\"])))\n",
    "\n",
    "m"
   ]
  },
  {
   "cell_type": "code",
   "execution_count": null,
   "outputs": [],
   "source": [],
   "metadata": {
    "collapsed": false
   }
  }
 ],
 "metadata": {
  "kernelspec": {
   "display_name": "Python 3 (ipykernel)",
   "language": "python",
   "name": "python3"
  },
  "language_info": {
   "codemirror_mode": {
    "name": "ipython",
    "version": 3
   },
   "file_extension": ".py",
   "mimetype": "text/x-python",
   "name": "python",
   "nbconvert_exporter": "python",
   "pygments_lexer": "ipython3",
   "version": "3.9.4"
  }
 },
 "nbformat": 4,
 "nbformat_minor": 1
}
